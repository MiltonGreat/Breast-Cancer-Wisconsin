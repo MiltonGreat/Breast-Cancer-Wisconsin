{
 "cells": [
  {
   "cell_type": "markdown",
   "id": "a6f305b2-5f71-427e-8945-7932deccd945",
   "metadata": {},
   "source": [
    "# Breast Cancer Wisconsin"
   ]
  },
  {
   "cell_type": "markdown",
   "id": "58ddd778-c8f4-4291-a4fc-54938e7b2b30",
   "metadata": {},
   "source": [
    "### Step 1: Import Libraries"
   ]
  },
  {
   "cell_type": "code",
   "execution_count": 1,
   "id": "8b864530-5c0d-46f0-a8fc-e37ece242893",
   "metadata": {},
   "outputs": [],
   "source": [
    "import pandas as pd\n",
    "import zipfile\n",
    "import os\n",
    "from sklearn.model_selection import train_test_split, cross_val_score, GridSearchCV\n",
    "from sklearn.linear_model import LogisticRegression\n",
    "from sklearn.svm import SVC\n",
    "from sklearn.ensemble import RandomForestClassifier\n",
    "from sklearn.metrics import accuracy_score, classification_report, confusion_matrix, roc_auc_score\n",
    "from sklearn.preprocessing import StandardScaler\n",
    "from imblearn.over_sampling import SMOTE  # For handling class imbalance\n",
    "import seaborn as sns\n",
    "import matplotlib.pyplot as plt\n",
    "import joblib"
   ]
  },
  {
   "cell_type": "markdown",
   "id": "ac527654-1eab-4a38-a101-b25f6ef4082c",
   "metadata": {},
   "source": [
    "### Step 2: Load Data"
   ]
  },
  {
   "cell_type": "code",
   "execution_count": 2,
   "id": "ba7ebf8f-e44c-4d75-8135-d689f4656ffa",
   "metadata": {},
   "outputs": [],
   "source": [
    "# Unzipping the file\n",
    "with zipfile.ZipFile('Breast Cancer Wisconsin.zip', 'r') as zip_ref:\n",
    "    zip_ref.extractall('Breast_Cancer_Wisconsin')\n",
    "\n",
    "# Get list of all files in the extracted folder\n",
    "file_list = os.listdir('Breast_Cancer_Wisconsin')\n",
    "\n",
    "# Load the CSV file into a DataFrame\n",
    "csv_file = [file for file in file_list if file.endswith('.csv')][0]\n",
    "df = pd.read_csv(f'Breast_Cancer_Wisconsin/{csv_file}')"
   ]
  },
  {
   "cell_type": "markdown",
   "id": "a71e5455-6ae7-4311-9239-29a1ffebc522",
   "metadata": {},
   "source": [
    "### Step 3: Data Preprocessing"
   ]
  },
  {
   "cell_type": "code",
   "execution_count": 3,
   "id": "a27da54f-22b7-495c-bde2-79252f59700b",
   "metadata": {},
   "outputs": [],
   "source": [
    "df.drop(['id', 'Unnamed: 32'], axis=1, errors='ignore', inplace=True)  # Drop unnecessary columns\n",
    "df['diagnosis'] = df['diagnosis'].map({'M': 1, 'B': 0})  # Convert diagnosis to binary\n",
    "X = df.drop('diagnosis', axis=1)\n",
    "y = df['diagnosis']\n",
    "\n",
    "# Handle class imbalance with SMOTE\n",
    "smote = SMOTE(random_state=42)\n",
    "X_resampled, y_resampled = smote.fit_resample(X, y)\n",
    "\n",
    "# Feature Scaling\n",
    "scaler = StandardScaler()\n",
    "X_scaled = scaler.fit_transform(X_resampled)"
   ]
  },
  {
   "cell_type": "markdown",
   "id": "ad695976-7197-4218-b32a-ab32e449b965",
   "metadata": {},
   "source": [
    "### Step 4: Train and Evaluate Models"
   ]
  },
  {
   "cell_type": "code",
   "execution_count": 4,
   "id": "6450110e-b9bb-4537-ac8a-d4b4ddc325ee",
   "metadata": {},
   "outputs": [
    {
     "name": "stdout",
     "output_type": "stream",
     "text": [
      "Logistic Regression Performance:\n",
      "Accuracy: 0.9790209790209791\n",
      "              precision    recall  f1-score   support\n",
      "\n",
      "           0       0.99      0.97      0.98        69\n",
      "           1       0.97      0.99      0.98        74\n",
      "\n",
      "    accuracy                           0.98       143\n",
      "   macro avg       0.98      0.98      0.98       143\n",
      "weighted avg       0.98      0.98      0.98       143\n",
      "\n",
      "\n",
      "SVM Performance:\n",
      "Accuracy: 0.9790209790209791\n",
      "              precision    recall  f1-score   support\n",
      "\n",
      "           0       0.99      0.97      0.98        69\n",
      "           1       0.97      0.99      0.98        74\n",
      "\n",
      "    accuracy                           0.98       143\n",
      "   macro avg       0.98      0.98      0.98       143\n",
      "weighted avg       0.98      0.98      0.98       143\n",
      "\n",
      "\n",
      "Random Forest Performance:\n",
      "Accuracy: 0.9790209790209791\n",
      "              precision    recall  f1-score   support\n",
      "\n",
      "           0       0.99      0.97      0.98        69\n",
      "           1       0.97      0.99      0.98        74\n",
      "\n",
      "    accuracy                           0.98       143\n",
      "   macro avg       0.98      0.98      0.98       143\n",
      "weighted avg       0.98      0.98      0.98       143\n",
      "\n"
     ]
    }
   ],
   "source": [
    "# Train-test split\n",
    "X_train, X_test, y_train, y_test = train_test_split(X_scaled, y_resampled, test_size=0.2, random_state=42)\n",
    "\n",
    "# Logistic Regression Model\n",
    "lr_model = LogisticRegression(max_iter=10000, random_state=42)\n",
    "lr_model.fit(X_train, y_train)\n",
    "y_pred_lr = lr_model.predict(X_test)\n",
    "print(\"Logistic Regression Performance:\")\n",
    "print(f\"Accuracy: {accuracy_score(y_test, y_pred_lr)}\")\n",
    "print(classification_report(y_test, y_pred_lr))\n",
    "\n",
    "# Support Vector Machine (SVM)\n",
    "svm_model = SVC(random_state=42)\n",
    "svm_model.fit(X_train, y_train)\n",
    "y_pred_svm = svm_model.predict(X_test)\n",
    "print(\"\\nSVM Performance:\")\n",
    "print(f\"Accuracy: {accuracy_score(y_test, y_pred_svm)}\")\n",
    "print(classification_report(y_test, y_pred_svm))\n",
    "\n",
    "# Random Forest Classifier\n",
    "rf_model = RandomForestClassifier(n_estimators=100, random_state=42)\n",
    "rf_model.fit(X_train, y_train)\n",
    "y_pred_rf = rf_model.predict(X_test)\n",
    "print(\"\\nRandom Forest Performance:\")\n",
    "print(f\"Accuracy: {accuracy_score(y_test, y_pred_rf)}\")\n",
    "print(classification_report(y_test, y_pred_rf))"
   ]
  },
  {
   "cell_type": "markdown",
   "id": "82e06126-e018-46b6-924a-dacb4944cc8e",
   "metadata": {},
   "source": [
    "### Step 5: Confusion Matrix"
   ]
  },
  {
   "cell_type": "code",
   "execution_count": 5,
   "id": "a69cc0c7-e5e7-4b98-a853-c0454192a912",
   "metadata": {},
   "outputs": [
    {
     "data": {
      "image/png": "[encoded data removed]",
      "text/plain": [
       "<Figure size 600x600 with 2 Axes>"
      ]
     },
     "metadata": {},
     "output_type": "display_data"
    },
    {
     "name": "stdout",
     "output_type": "stream",
     "text": [
      "\n",
      "Cross-validation scores for Random Forest: [0.94405594 0.97902098 0.97202797 0.97902098 0.96478873]\n",
      "Mean CV score: 0.9677829213040481\n"
     ]
    }
   ],
   "source": [
    "# Confusion Matrix for Random Forest\n",
    "plt.figure(figsize=(6, 6))\n",
    "sns.heatmap(confusion_matrix(y_test, y_pred_rf), annot=True, fmt='d', cmap='Blues', linewidths=0.5)\n",
    "plt.title('Random Forest Confusion Matrix')\n",
    "plt.ylabel('True Label')\n",
    "plt.xlabel('Predicted Label')\n",
    "plt.show()\n",
    "\n",
    "# Cross-validation for Random Forest\n",
    "cv_scores_rf = cross_val_score(rf_model, X_scaled, y_resampled, cv=5)\n",
    "print(f\"\\nCross-validation scores for Random Forest: {cv_scores_rf}\")\n",
    "print(f\"Mean CV score: {cv_scores_rf.mean()}\")"
   ]
  },
  {
   "cell_type": "markdown",
   "id": "a661d8b4-a942-4860-9e7a-b896de298e00",
   "metadata": {},
   "source": [
    "### Step 6: Hypterparameter and Evluate Best Model"
   ]
  },
  {
   "cell_type": "code",
   "execution_count": 6,
   "id": "867497d7-12c2-4817-b1af-fa2b550f04a3",
   "metadata": {},
   "outputs": [
    {
     "name": "stdout",
     "output_type": "stream",
     "text": [
      "\n",
      "Best Parameters from GridSearchCV: {'max_depth': None, 'min_samples_leaf': 1, 'min_samples_split': 2, 'n_estimators': 100}\n",
      "\n",
      "Best Random Forest Performance after Hyperparameter Tuning:\n",
      "Accuracy: 0.9790209790209791\n",
      "              precision    recall  f1-score   support\n",
      "\n",
      "           0       0.99      0.97      0.98        69\n",
      "           1       0.97      0.99      0.98        74\n",
      "\n",
      "    accuracy                           0.98       143\n",
      "   macro avg       0.98      0.98      0.98       143\n",
      "weighted avg       0.98      0.98      0.98       143\n",
      "\n"
     ]
    }
   ],
   "source": [
    "# Hyperparameter Tuning with GridSearchCV (for Random Forest)\n",
    "param_grid = {\n",
    "    'n_estimators': [100, 200, 300],\n",
    "    'max_depth': [None, 10, 20, 30],\n",
    "    'min_samples_split': [2, 5, 10],\n",
    "    'min_samples_leaf': [1, 2, 4]\n",
    "}\n",
    "\n",
    "rf_grid_search = GridSearchCV(estimator=rf_model, param_grid=param_grid, cv=5, scoring='accuracy')\n",
    "rf_grid_search.fit(X_train, y_train)\n",
    "print(f\"\\nBest Parameters from GridSearchCV: {rf_grid_search.best_params_}\")\n",
    "\n",
    "best_rf_model = rf_grid_search.best_estimator_\n",
    "\n",
    "# Predictions and evaluation for the best model\n",
    "y_pred_best_rf = best_rf_model.predict(X_test)\n",
    "print(\"\\nBest Random Forest Performance after Hyperparameter Tuning:\")\n",
    "print(f\"Accuracy: {accuracy_score(y_test, y_pred_best_rf)}\")\n",
    "print(classification_report(y_test, y_pred_best_rf))"
   ]
  },
  {
   "cell_type": "markdown",
   "id": "c94e2942-90c7-4f0a-ab81-213c89db0485",
   "metadata": {},
   "source": [
    "### Step 7: Save"
   ]
  },
  {
   "cell_type": "code",
   "execution_count": 7,
   "id": "b2bf3443-d06c-40bf-b67d-63251115bdd7",
   "metadata": {},
   "outputs": [
    {
     "name": "stdout",
     "output_type": "stream",
     "text": [
      "\n",
      "Best Random Forest Model saved successfully!\n"
     ]
    }
   ],
   "source": [
    "# Model Saving\n",
    "joblib.dump(best_rf_model, 'breast_cancer_rf_model.pkl')\n",
    "print(\"\\nBest Random Forest Model saved successfully!\")"
   ]
  }
 ],
 "metadata": {
  "kernelspec": {
   "display_name": "Python 3 (ipykernel)",
   "language": "python",
   "name": "python3"
  },
  "language_info": {
   "codemirror_mode": {
    "name": "ipython",
    "version": 3
   },
   "file_extension": ".py",
   "mimetype": "text/x-python",
   "name": "python",
   "nbconvert_exporter": "python",
   "pygments_lexer": "ipython3",
   "version": "3.12.7"
  }
 },
 "nbformat": 4,
 "nbformat_minor": 5
}
